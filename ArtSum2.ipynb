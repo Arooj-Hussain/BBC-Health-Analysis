{
 "cells": [
  {
   "cell_type": "code",
   "execution_count": 34,
   "metadata": {},
   "outputs": [],
   "source": [
    "import spacy\n",
    "from spacy.lang.en.stop_words import STOP_WORDS\n",
    "stopwords=list(STOP_WORDS)\n",
    "from string import punctuation\n",
    "punctuation=punctuation+ '\\n'"
   ]
  },
  {
   "cell_type": "code",
   "execution_count": 35,
   "metadata": {},
   "outputs": [
    {
     "name": "stdout",
     "output_type": "stream",
     "text": [
      "Monkeypox can be contained in countries outside of Africa where the virus is not usually detected, the World Health Organization (WHO) says. More than 100 cases of the virus - which causes a rash and a fever - have been confirmed in Europe, the Americas and Australia. That number is expected to rise still, but experts say the overall risk to the broader population is very low. The virus is most common in remote parts of Central and West Africa. \"This is a containable situation,\" the WHO's emerging disease lead Maria Van Kerkhove said at a news conference on Monday. \"We want to stop human-to-human transmission. We can do this in the non-endemic countries,\" she added - referring to recent cases in Europe and North America. What is monkeypox and how do you catch it? Monkeypox: Time to worry or one to ignore? The virus has now been detected in 16 countries outside Africa. Despite being the largest outbreak outside of Africa in 50 years, monkeypox does not spread easily between people and experts say the threat is not comparable to the coronavirus pandemic.  \"Transmission is really happening from skin-to-skin contact, most of the people who have been identified have more of a mild disease,\" Ms Van Kerkhove said.  Another WHO official added that there was no evidence the monkeypox virus had mutated, following earlier speculation over the cause of the current outbreak. Viruses in this group \"tend not to mutate and they tend to be fairly stable\", said Rosamund Lewis, who heads the WHO's smallpox secretariat. Meanwhile, a top EU health official has warned that some groups of people may be more at risk than others. \"For the broader population, the likelihood of spread is very low,\" said Dr Andrea Ammon of the European Centre for Disease Prevention and Control.  \"However the likelihood of further spread of the virus through close contact for example during sexual activities amongst persons with multiple sexual partners is considered to be high\". Monkeypox has not previously been described as a sexually transmitted infection, but it can be passed on by direct contact during sex. Dr Ammon suggested that countries should review the availability of the smallpox vaccine which is also effective against monkeypox. In the UK, which has now recorded 57 cases, authorities are advising anyone who has had close contact with a confirmed case to isolate for 21 days. A person is considered at high risk of having caught the infection if they have had household or sexual contact with someone with monkeypox, or have changed the bedding of an infected person without wearing personal protective equipment (PPE). Symptoms, which include a high temperature, aches, and a rash of raised spots that later turn into blisters, are typically mild and for most people clear up within two to four weeks.\n"
     ]
    }
   ],
   "source": [
    "from bs4 import BeautifulSoup as bs\n",
    "import requests\n",
    "\n",
    "url = \"https://www.bbc.com/news/health-61553822\"\n",
    "response = requests.get(url)\n",
    "#print(response)\n",
    "\n",
    "html = response.content\n",
    "#print(html)\n",
    "soup = bs(html,\"lxml\")\n",
    "\n",
    "import re\n",
    "article = \" \".join([el.text for el in soup.find_all(\"div\", [re.compile('.*RichTextContainer.*')], recursive=True)])\n",
    "#print(soup.find(property=\"articleBody\"))\n",
    "#article = [el.text for el in soup.find_all(\"div\", [re.compile('.*RichTextContainer.*')], recursive= True)]\n",
    "print(article)"
   ]
  },
  {
   "cell_type": "code",
   "execution_count": 36,
   "metadata": {},
   "outputs": [
    {
     "name": "stdout",
     "output_type": "stream",
     "text": [
      "['Monkeypox', 'can', 'be', 'contained', 'in', 'countries', 'outside', 'of', 'Africa', 'where', 'the', 'virus', 'is', 'not', 'usually', 'detected', ',', 'the', 'World', 'Health', 'Organization', '(', 'WHO', ')', 'says', '.', 'More', 'than', '100', 'cases', 'of', 'the', 'virus', '-', 'which', 'causes', 'a', 'rash', 'and', 'a', 'fever', '-', 'have', 'been', 'confirmed', 'in', 'Europe', ',', 'the', 'Americas', 'and', 'Australia', '.', 'That', 'number', 'is', 'expected', 'to', 'rise', 'still', ',', 'but', 'experts', 'say', 'the', 'overall', 'risk', 'to', 'the', 'broader', 'population', 'is', 'very', 'low', '.', 'The', 'virus', 'is', 'most', 'common', 'in', 'remote', 'parts', 'of', 'Central', 'and', 'West', 'Africa', '.', '\"', 'This', 'is', 'a', 'containable', 'situation', ',', '\"', 'the', 'WHO', \"'s\", 'emerging', 'disease', 'lead', 'Maria', 'Van', 'Kerkhove', 'said', 'at', 'a', 'news', 'conference', 'on', 'Monday', '.', '\"', 'We', 'want', 'to', 'stop', 'human', '-', 'to', '-', 'human', 'transmission', '.', 'We', 'can', 'do', 'this', 'in', 'the', 'non', '-', 'endemic', 'countries', ',', '\"', 'she', 'added', '-', 'referring', 'to', 'recent', 'cases', 'in', 'Europe', 'and', 'North', 'America', '.', 'What', 'is', 'monkeypox', 'and', 'how', 'do', 'you', 'catch', 'it', '?', 'Monkeypox', ':', 'Time', 'to', 'worry', 'or', 'one', 'to', 'ignore', '?', 'The', 'virus', 'has', 'now', 'been', 'detected', 'in', '16', 'countries', 'outside', 'Africa', '.', 'Despite', 'being', 'the', 'largest', 'outbreak', 'outside', 'of', 'Africa', 'in', '50', 'years', ',', 'monkeypox', 'does', 'not', 'spread', 'easily', 'between', 'people', 'and', 'experts', 'say', 'the', 'threat', 'is', 'not', 'comparable', 'to', 'the', 'coronavirus', 'pandemic', '.', ' ', '\"', 'Transmission', 'is', 'really', 'happening', 'from', 'skin', '-', 'to', '-', 'skin', 'contact', ',', 'most', 'of', 'the', 'people', 'who', 'have', 'been', 'identified', 'have', 'more', 'of', 'a', 'mild', 'disease', ',', '\"', 'Ms', 'Van', 'Kerkhove', 'said', '.', ' ', 'Another', 'WHO', 'official', 'added', 'that', 'there', 'was', 'no', 'evidence', 'the', 'monkeypox', 'virus', 'had', 'mutated', ',', 'following', 'earlier', 'speculation', 'over', 'the', 'cause', 'of', 'the', 'current', 'outbreak', '.', 'Viruses', 'in', 'this', 'group', '\"', 'tend', 'not', 'to', 'mutate', 'and', 'they', 'tend', 'to', 'be', 'fairly', 'stable', '\"', ',', 'said', 'Rosamund', 'Lewis', ',', 'who', 'heads', 'the', 'WHO', \"'s\", 'smallpox', 'secretariat', '.', 'Meanwhile', ',', 'a', 'top', 'EU', 'health', 'official', 'has', 'warned', 'that', 'some', 'groups', 'of', 'people', 'may', 'be', 'more', 'at', 'risk', 'than', 'others', '.', '\"', 'For', 'the', 'broader', 'population', ',', 'the', 'likelihood', 'of', 'spread', 'is', 'very', 'low', ',', '\"', 'said', 'Dr', 'Andrea', 'Ammon', 'of', 'the', 'European', 'Centre', 'for', 'Disease', 'Prevention', 'and', 'Control', '.', ' ', '\"', 'However', 'the', 'likelihood', 'of', 'further', 'spread', 'of', 'the', 'virus', 'through', 'close', 'contact', 'for', 'example', 'during', 'sexual', 'activities', 'amongst', 'persons', 'with', 'multiple', 'sexual', 'partners', 'is', 'considered', 'to', 'be', 'high', '\"', '.', 'Monkeypox', 'has', 'not', 'previously', 'been', 'described', 'as', 'a', 'sexually', 'transmitted', 'infection', ',', 'but', 'it', 'can', 'be', 'passed', 'on', 'by', 'direct', 'contact', 'during', 'sex', '.', 'Dr', 'Ammon', 'suggested', 'that', 'countries', 'should', 'review', 'the', 'availability', 'of', 'the', 'smallpox', 'vaccine', 'which', 'is', 'also', 'effective', 'against', 'monkeypox', '.', 'In', 'the', 'UK', ',', 'which', 'has', 'now', 'recorded', '57', 'cases', ',', 'authorities', 'are', 'advising', 'anyone', 'who', 'has', 'had', 'close', 'contact', 'with', 'a', 'confirmed', 'case', 'to', 'isolate', 'for', '21', 'days', '.', 'A', 'person', 'is', 'considered', 'at', 'high', 'risk', 'of', 'having', 'caught', 'the', 'infection', 'if', 'they', 'have', 'had', 'household', 'or', 'sexual', 'contact', 'with', 'someone', 'with', 'monkeypox', ',', 'or', 'have', 'changed', 'the', 'bedding', 'of', 'an', 'infected', 'person', 'without', 'wearing', 'personal', 'protective', 'equipment', '(', 'PPE', ')', '.', 'Symptoms', ',', 'which', 'include', 'a', 'high', 'temperature', ',', 'aches', ',', 'and', 'a', 'rash', 'of', 'raised', 'spots', 'that', 'later', 'turn', 'into', 'blisters', ',', 'are', 'typically', 'mild', 'and', 'for', 'most', 'people', 'clear', 'up', 'within', 'two', 'to', 'four', 'weeks', '.']\n"
     ]
    }
   ],
   "source": [
    "\n",
    "nlp = spacy.load('en_core_web_sm')\n",
    "doc= nlp(article)\n",
    "tokens=[token.text for token in doc]\n",
    "print(tokens)"
   ]
  },
  {
   "cell_type": "code",
   "execution_count": 37,
   "metadata": {},
   "outputs": [
    {
     "name": "stdout",
     "output_type": "stream",
     "text": [
      "{'Monkeypox': 3, 'contained': 1, 'countries': 4, 'outside': 3, 'Africa': 4, 'virus': 6, 'usually': 1, 'detected': 2, 'World': 1, 'Health': 1, 'Organization': 1, 'says': 1, '100': 1, 'cases': 3, 'causes': 1, 'rash': 2, 'fever': 1, 'confirmed': 2, 'Europe': 2, 'Americas': 1, 'Australia': 1, 'number': 1, 'expected': 1, 'rise': 1, 'experts': 2, 'overall': 1, 'risk': 3, 'broader': 2, 'population': 2, 'low': 2, 'common': 1, 'remote': 1, 'parts': 1, 'Central': 1, 'West': 1, 'containable': 1, 'situation': 1, 'emerging': 1, 'disease': 2, 'lead': 1, 'Maria': 1, 'Van': 2, 'Kerkhove': 2, 'said': 4, 'news': 1, 'conference': 1, 'Monday': 1, 'want': 1, 'stop': 1, 'human': 2, 'transmission': 1, 'non': 1, 'endemic': 1, 'added': 2, 'referring': 1, 'recent': 1, 'North': 1, 'America': 1, 'monkeypox': 5, 'catch': 1, 'Time': 1, 'worry': 1, 'ignore': 1, '16': 1, 'Despite': 1, 'largest': 1, 'outbreak': 2, '50': 1, 'years': 1, 'spread': 3, 'easily': 1, 'people': 4, 'threat': 1, 'comparable': 1, 'coronavirus': 1, 'pandemic': 1, ' ': 3, 'Transmission': 1, 'happening': 1, 'skin': 2, 'contact': 5, 'identified': 1, 'mild': 2, 'Ms': 1, 'official': 2, 'evidence': 1, 'mutated': 1, 'following': 1, 'earlier': 1, 'speculation': 1, 'cause': 1, 'current': 1, 'Viruses': 1, 'group': 1, 'tend': 2, 'mutate': 1, 'fairly': 1, 'stable': 1, 'Rosamund': 1, 'Lewis': 1, 'heads': 1, 'smallpox': 2, 'secretariat': 1, 'EU': 1, 'health': 1, 'warned': 1, 'groups': 1, 'likelihood': 2, 'Dr': 2, 'Andrea': 1, 'Ammon': 2, 'European': 1, 'Centre': 1, 'Disease': 1, 'Prevention': 1, 'Control': 1, 'close': 2, 'example': 1, 'sexual': 3, 'activities': 1, 'persons': 1, 'multiple': 1, 'partners': 1, 'considered': 2, 'high': 3, 'previously': 1, 'described': 1, 'sexually': 1, 'transmitted': 1, 'infection': 2, 'passed': 1, 'direct': 1, 'sex': 1, 'suggested': 1, 'review': 1, 'availability': 1, 'vaccine': 1, 'effective': 1, 'UK': 1, 'recorded': 1, '57': 1, 'authorities': 1, 'advising': 1, 'case': 1, 'isolate': 1, '21': 1, 'days': 1, 'person': 2, 'having': 1, 'caught': 1, 'household': 1, 'changed': 1, 'bedding': 1, 'infected': 1, 'wearing': 1, 'personal': 1, 'protective': 1, 'equipment': 1, 'PPE': 1, 'Symptoms': 1, 'include': 1, 'temperature': 1, 'aches': 1, 'raised': 1, 'spots': 1, 'later': 1, 'turn': 1, 'blisters': 1, 'typically': 1, 'clear': 1, 'weeks': 1}\n"
     ]
    }
   ],
   "source": [
    "word_frequencies={}\n",
    "for word in doc:\n",
    "    if word.text.lower() not in stopwords:\n",
    "        if word.text.lower() not in punctuation:\n",
    "            if word.text not in word_frequencies.keys():\n",
    "                word_frequencies[word.text] = 1\n",
    "            else:\n",
    "                word_frequencies[word.text] += 1\n",
    "print(word_frequencies)                "
   ]
  },
  {
   "cell_type": "code",
   "execution_count": null,
   "metadata": {},
   "outputs": [
    {
     "name": "stdout",
     "output_type": "stream",
     "text": [
      "{'Monkeypox': 2, 'contained': 1, 'countries': 4, 'outside': 3, 'Africa': 4, 'virus': 6, 'usually': 1, 'detected': 2, 'World': 1, 'Health': 1, 'Organization': 1, 'says': 1, ',More': 1, '100': 1, 'cases': 3, 'causes': 1, 'rash': 2, 'fever': 1, 'confirmed': 2, 'Europe': 2, 'Americas': 1, 'Australia': 1, ',That': 1, 'number': 1, 'expected': 1, 'rise': 1, 'experts': 2, 'overall': 1, 'risk': 3, 'broader': 2, 'population': 2, 'low': 2, ',The': 1, 'common': 1, 'remote': 1, 'parts': 1, 'Central': 1, 'West': 1, ',\"This': 1, 'containable': 1, 'situation': 1, 'emerging': 1, 'disease': 2, 'lead': 1, 'Maria': 1, 'Van': 2, 'Kerkhove': 2, 'said': 4, 'news': 1, 'conference': 1, 'Monday': 1, ',\"We': 1, 'want': 1, 'stop': 1, 'human': 2, 'transmission': 1, 'non': 1, 'endemic': 1, 'added': 2, 'referring': 1, 'recent': 1, 'North': 1, 'America': 1, ',What': 1, 'monkeypox': 5, 'catch': 1, 'Time': 1, 'worry': 1, 'ignore?,The': 1, '16': 1, ',Despite': 1, 'largest': 1, 'outbreak': 2, '50': 1, 'years': 1, 'spread': 3, 'easily': 1, 'people': 4, 'threat': 1, 'comparable': 1, 'coronavirus': 1, 'pandemic': 1, 'Transmission': 1, 'happening': 1, 'skin': 2, 'contact': 5, 'identified': 1, 'mild': 2, 'Ms': 1, 'official': 2, 'evidence': 1, 'mutated': 1, 'following': 1, 'earlier': 1, 'speculation': 1, 'cause': 1, 'current': 1, ',Viruses': 1, 'group': 1, 'tend': 2, 'mutate': 1, 'fairly': 1, 'stable': 1, 'Rosamund': 1, 'Lewis': 1, 'heads': 1, 'smallpox': 2, 'secretariat': 1, ',Meanwhile': 1, 'EU': 1, 'health': 1, 'warned': 1, 'groups': 1, ',\"For': 1, 'likelihood': 2, 'Dr': 1, 'Andrea': 1, 'Ammon': 2, 'European': 1, 'Centre': 1, 'Disease': 1, 'Prevention': 1, 'Control': 1, 'close': 2, 'example': 1, 'sexual': 3, 'activities': 1, 'persons': 1, 'multiple': 1, 'partners': 1, 'considered': 2, 'high\"': 1, ',Monkeypox': 1, 'previously': 1, 'described': 1, 'sexually': 1, 'transmitted': 1, 'infection': 2, 'passed': 1, 'direct': 1, 'sex': 1, ',Dr': 1, 'suggested': 1, 'review': 1, 'availability': 1, 'vaccine': 1, 'effective': 1, ',In': 1, 'UK': 1, 'recorded': 1, '57': 1, 'authorities': 1, 'advising': 1, 'case': 1, 'isolate': 1, '21': 1, 'days': 1, ',A': 1, 'person': 2, 'high': 2, 'having': 1, 'caught': 1, 'household': 1, 'changed': 1, 'bedding': 1, 'infected': 1, 'wearing': 1, 'personal': 1, 'protective': 1, 'equipment': 1, 'PPE).,Symptoms': 1, 'include': 1, 'temperature': 1, 'aches': 1, 'raised': 1, 'spots': 1, 'later': 1, 'turn': 1, 'blisters': 1, 'typically': 1, 'clear': 1, 'weeks': 1}\n"
     ]
    }
   ],
   "source": []
  },
  {
   "cell_type": "code",
   "execution_count": 38,
   "metadata": {},
   "outputs": [
    {
     "name": "stdout",
     "output_type": "stream",
     "text": [
      "{'Monkeypox': 0.5, 'contained': 0.16666666666666666, 'countries': 0.6666666666666666, 'outside': 0.5, 'Africa': 0.6666666666666666, 'virus': 1.0, 'usually': 0.16666666666666666, 'detected': 0.3333333333333333, 'World': 0.16666666666666666, 'Health': 0.16666666666666666, 'Organization': 0.16666666666666666, 'says': 0.16666666666666666, '100': 0.16666666666666666, 'cases': 0.5, 'causes': 0.16666666666666666, 'rash': 0.3333333333333333, 'fever': 0.16666666666666666, 'confirmed': 0.3333333333333333, 'Europe': 0.3333333333333333, 'Americas': 0.16666666666666666, 'Australia': 0.16666666666666666, 'number': 0.16666666666666666, 'expected': 0.16666666666666666, 'rise': 0.16666666666666666, 'experts': 0.3333333333333333, 'overall': 0.16666666666666666, 'risk': 0.5, 'broader': 0.3333333333333333, 'population': 0.3333333333333333, 'low': 0.3333333333333333, 'common': 0.16666666666666666, 'remote': 0.16666666666666666, 'parts': 0.16666666666666666, 'Central': 0.16666666666666666, 'West': 0.16666666666666666, 'containable': 0.16666666666666666, 'situation': 0.16666666666666666, 'emerging': 0.16666666666666666, 'disease': 0.3333333333333333, 'lead': 0.16666666666666666, 'Maria': 0.16666666666666666, 'Van': 0.3333333333333333, 'Kerkhove': 0.3333333333333333, 'said': 0.6666666666666666, 'news': 0.16666666666666666, 'conference': 0.16666666666666666, 'Monday': 0.16666666666666666, 'want': 0.16666666666666666, 'stop': 0.16666666666666666, 'human': 0.3333333333333333, 'transmission': 0.16666666666666666, 'non': 0.16666666666666666, 'endemic': 0.16666666666666666, 'added': 0.3333333333333333, 'referring': 0.16666666666666666, 'recent': 0.16666666666666666, 'North': 0.16666666666666666, 'America': 0.16666666666666666, 'monkeypox': 0.8333333333333334, 'catch': 0.16666666666666666, 'Time': 0.16666666666666666, 'worry': 0.16666666666666666, 'ignore': 0.16666666666666666, '16': 0.16666666666666666, 'Despite': 0.16666666666666666, 'largest': 0.16666666666666666, 'outbreak': 0.3333333333333333, '50': 0.16666666666666666, 'years': 0.16666666666666666, 'spread': 0.5, 'easily': 0.16666666666666666, 'people': 0.6666666666666666, 'threat': 0.16666666666666666, 'comparable': 0.16666666666666666, 'coronavirus': 0.16666666666666666, 'pandemic': 0.16666666666666666, ' ': 0.5, 'Transmission': 0.16666666666666666, 'happening': 0.16666666666666666, 'skin': 0.3333333333333333, 'contact': 0.8333333333333334, 'identified': 0.16666666666666666, 'mild': 0.3333333333333333, 'Ms': 0.16666666666666666, 'official': 0.3333333333333333, 'evidence': 0.16666666666666666, 'mutated': 0.16666666666666666, 'following': 0.16666666666666666, 'earlier': 0.16666666666666666, 'speculation': 0.16666666666666666, 'cause': 0.16666666666666666, 'current': 0.16666666666666666, 'Viruses': 0.16666666666666666, 'group': 0.16666666666666666, 'tend': 0.3333333333333333, 'mutate': 0.16666666666666666, 'fairly': 0.16666666666666666, 'stable': 0.16666666666666666, 'Rosamund': 0.16666666666666666, 'Lewis': 0.16666666666666666, 'heads': 0.16666666666666666, 'smallpox': 0.3333333333333333, 'secretariat': 0.16666666666666666, 'EU': 0.16666666666666666, 'health': 0.16666666666666666, 'warned': 0.16666666666666666, 'groups': 0.16666666666666666, 'likelihood': 0.3333333333333333, 'Dr': 0.3333333333333333, 'Andrea': 0.16666666666666666, 'Ammon': 0.3333333333333333, 'European': 0.16666666666666666, 'Centre': 0.16666666666666666, 'Disease': 0.16666666666666666, 'Prevention': 0.16666666666666666, 'Control': 0.16666666666666666, 'close': 0.3333333333333333, 'example': 0.16666666666666666, 'sexual': 0.5, 'activities': 0.16666666666666666, 'persons': 0.16666666666666666, 'multiple': 0.16666666666666666, 'partners': 0.16666666666666666, 'considered': 0.3333333333333333, 'high': 0.5, 'previously': 0.16666666666666666, 'described': 0.16666666666666666, 'sexually': 0.16666666666666666, 'transmitted': 0.16666666666666666, 'infection': 0.3333333333333333, 'passed': 0.16666666666666666, 'direct': 0.16666666666666666, 'sex': 0.16666666666666666, 'suggested': 0.16666666666666666, 'review': 0.16666666666666666, 'availability': 0.16666666666666666, 'vaccine': 0.16666666666666666, 'effective': 0.16666666666666666, 'UK': 0.16666666666666666, 'recorded': 0.16666666666666666, '57': 0.16666666666666666, 'authorities': 0.16666666666666666, 'advising': 0.16666666666666666, 'case': 0.16666666666666666, 'isolate': 0.16666666666666666, '21': 0.16666666666666666, 'days': 0.16666666666666666, 'person': 0.3333333333333333, 'having': 0.16666666666666666, 'caught': 0.16666666666666666, 'household': 0.16666666666666666, 'changed': 0.16666666666666666, 'bedding': 0.16666666666666666, 'infected': 0.16666666666666666, 'wearing': 0.16666666666666666, 'personal': 0.16666666666666666, 'protective': 0.16666666666666666, 'equipment': 0.16666666666666666, 'PPE': 0.16666666666666666, 'Symptoms': 0.16666666666666666, 'include': 0.16666666666666666, 'temperature': 0.16666666666666666, 'aches': 0.16666666666666666, 'raised': 0.16666666666666666, 'spots': 0.16666666666666666, 'later': 0.16666666666666666, 'turn': 0.16666666666666666, 'blisters': 0.16666666666666666, 'typically': 0.16666666666666666, 'clear': 0.16666666666666666, 'weeks': 0.16666666666666666}\n"
     ]
    }
   ],
   "source": [
    "max_frequency=max(word_frequencies.values())\n",
    "for word in word_frequencies.keys():\n",
    "    word_frequencies[word]=word_frequencies[word]/max_frequency\n",
    "print(word_frequencies)"
   ]
  },
  {
   "cell_type": "code",
   "execution_count": null,
   "metadata": {},
   "outputs": [
    {
     "name": "stdout",
     "output_type": "stream",
     "text": [
      "{'Monkeypox': 0.3333333333333333, 'contained': 0.16666666666666666, 'countries': 0.6666666666666666, 'outside': 0.5, 'Africa': 0.6666666666666666, 'virus': 1.0, 'usually': 0.16666666666666666, 'detected': 0.3333333333333333, 'World': 0.16666666666666666, 'Health': 0.16666666666666666, 'Organization': 0.16666666666666666, 'says': 0.16666666666666666, ',More': 0.16666666666666666, '100': 0.16666666666666666, 'cases': 0.5, 'causes': 0.16666666666666666, 'rash': 0.3333333333333333, 'fever': 0.16666666666666666, 'confirmed': 0.3333333333333333, 'Europe': 0.3333333333333333, 'Americas': 0.16666666666666666, 'Australia': 0.16666666666666666, ',That': 0.16666666666666666, 'number': 0.16666666666666666, 'expected': 0.16666666666666666, 'rise': 0.16666666666666666, 'experts': 0.3333333333333333, 'overall': 0.16666666666666666, 'risk': 0.5, 'broader': 0.3333333333333333, 'population': 0.3333333333333333, 'low': 0.3333333333333333, ',The': 0.16666666666666666, 'common': 0.16666666666666666, 'remote': 0.16666666666666666, 'parts': 0.16666666666666666, 'Central': 0.16666666666666666, 'West': 0.16666666666666666, ',\"This': 0.16666666666666666, 'containable': 0.16666666666666666, 'situation': 0.16666666666666666, 'emerging': 0.16666666666666666, 'disease': 0.3333333333333333, 'lead': 0.16666666666666666, 'Maria': 0.16666666666666666, 'Van': 0.3333333333333333, 'Kerkhove': 0.3333333333333333, 'said': 0.6666666666666666, 'news': 0.16666666666666666, 'conference': 0.16666666666666666, 'Monday': 0.16666666666666666, ',\"We': 0.16666666666666666, 'want': 0.16666666666666666, 'stop': 0.16666666666666666, 'human': 0.3333333333333333, 'transmission': 0.16666666666666666, 'non': 0.16666666666666666, 'endemic': 0.16666666666666666, 'added': 0.3333333333333333, 'referring': 0.16666666666666666, 'recent': 0.16666666666666666, 'North': 0.16666666666666666, 'America': 0.16666666666666666, ',What': 0.16666666666666666, 'monkeypox': 0.8333333333333334, 'catch': 0.16666666666666666, 'Time': 0.16666666666666666, 'worry': 0.16666666666666666, 'ignore?,The': 0.16666666666666666, '16': 0.16666666666666666, ',Despite': 0.16666666666666666, 'largest': 0.16666666666666666, 'outbreak': 0.3333333333333333, '50': 0.16666666666666666, 'years': 0.16666666666666666, 'spread': 0.5, 'easily': 0.16666666666666666, 'people': 0.6666666666666666, 'threat': 0.16666666666666666, 'comparable': 0.16666666666666666, 'coronavirus': 0.16666666666666666, 'pandemic': 0.16666666666666666, 'Transmission': 0.16666666666666666, 'happening': 0.16666666666666666, 'skin': 0.3333333333333333, 'contact': 0.8333333333333334, 'identified': 0.16666666666666666, 'mild': 0.3333333333333333, 'Ms': 0.16666666666666666, 'official': 0.3333333333333333, 'evidence': 0.16666666666666666, 'mutated': 0.16666666666666666, 'following': 0.16666666666666666, 'earlier': 0.16666666666666666, 'speculation': 0.16666666666666666, 'cause': 0.16666666666666666, 'current': 0.16666666666666666, ',Viruses': 0.16666666666666666, 'group': 0.16666666666666666, 'tend': 0.3333333333333333, 'mutate': 0.16666666666666666, 'fairly': 0.16666666666666666, 'stable': 0.16666666666666666, 'Rosamund': 0.16666666666666666, 'Lewis': 0.16666666666666666, 'heads': 0.16666666666666666, 'smallpox': 0.3333333333333333, 'secretariat': 0.16666666666666666, ',Meanwhile': 0.16666666666666666, 'EU': 0.16666666666666666, 'health': 0.16666666666666666, 'warned': 0.16666666666666666, 'groups': 0.16666666666666666, ',\"For': 0.16666666666666666, 'likelihood': 0.3333333333333333, 'Dr': 0.16666666666666666, 'Andrea': 0.16666666666666666, 'Ammon': 0.3333333333333333, 'European': 0.16666666666666666, 'Centre': 0.16666666666666666, 'Disease': 0.16666666666666666, 'Prevention': 0.16666666666666666, 'Control': 0.16666666666666666, 'close': 0.3333333333333333, 'example': 0.16666666666666666, 'sexual': 0.5, 'activities': 0.16666666666666666, 'persons': 0.16666666666666666, 'multiple': 0.16666666666666666, 'partners': 0.16666666666666666, 'considered': 0.3333333333333333, 'high\"': 0.16666666666666666, ',Monkeypox': 0.16666666666666666, 'previously': 0.16666666666666666, 'described': 0.16666666666666666, 'sexually': 0.16666666666666666, 'transmitted': 0.16666666666666666, 'infection': 0.3333333333333333, 'passed': 0.16666666666666666, 'direct': 0.16666666666666666, 'sex': 0.16666666666666666, ',Dr': 0.16666666666666666, 'suggested': 0.16666666666666666, 'review': 0.16666666666666666, 'availability': 0.16666666666666666, 'vaccine': 0.16666666666666666, 'effective': 0.16666666666666666, ',In': 0.16666666666666666, 'UK': 0.16666666666666666, 'recorded': 0.16666666666666666, '57': 0.16666666666666666, 'authorities': 0.16666666666666666, 'advising': 0.16666666666666666, 'case': 0.16666666666666666, 'isolate': 0.16666666666666666, '21': 0.16666666666666666, 'days': 0.16666666666666666, ',A': 0.16666666666666666, 'person': 0.3333333333333333, 'high': 0.3333333333333333, 'having': 0.16666666666666666, 'caught': 0.16666666666666666, 'household': 0.16666666666666666, 'changed': 0.16666666666666666, 'bedding': 0.16666666666666666, 'infected': 0.16666666666666666, 'wearing': 0.16666666666666666, 'personal': 0.16666666666666666, 'protective': 0.16666666666666666, 'equipment': 0.16666666666666666, 'PPE).,Symptoms': 0.16666666666666666, 'include': 0.16666666666666666, 'temperature': 0.16666666666666666, 'aches': 0.16666666666666666, 'raised': 0.16666666666666666, 'spots': 0.16666666666666666, 'later': 0.16666666666666666, 'turn': 0.16666666666666666, 'blisters': 0.16666666666666666, 'typically': 0.16666666666666666, 'clear': 0.16666666666666666, 'weeks': 0.16666666666666666}\n"
     ]
    }
   ],
   "source": []
  },
  {
   "cell_type": "code",
   "execution_count": 39,
   "metadata": {},
   "outputs": [
    {
     "name": "stdout",
     "output_type": "stream",
     "text": [
      "[Monkeypox can be contained in countries outside of Africa where the virus is not usually detected, the World Health Organization (WHO) says., More than 100 cases of the virus - which causes a rash and a fever - have been confirmed in Europe, the Americas and Australia., That number is expected to rise still, but experts say the overall risk to the broader population is very low., The virus is most common in remote parts of Central and West Africa., \"This is a containable situation,\" the WHO's emerging disease lead Maria Van Kerkhove said at a news conference on Monday., \"We want to stop human-to-human transmission., We can do this in the non-endemic countries,\" she added - referring to recent cases in Europe and North America., What is monkeypox and how do you catch it?, Monkeypox: Time to worry or one to ignore?, The virus has now been detected in 16 countries outside Africa., Despite being the largest outbreak outside of Africa in 50 years, monkeypox does not spread easily between people and experts say the threat is not comparable to the coronavirus pandemic.,  \"Transmission is really happening from skin-to-skin contact, most of the people who have been identified have more of a mild disease,\" Ms Van Kerkhove said.,  Another WHO official added that there was no evidence the monkeypox virus had mutated, following earlier speculation over the cause of the current outbreak., Viruses in this group \"tend not to mutate and they tend to be fairly stable\", said Rosamund Lewis, who heads the WHO's smallpox secretariat., Meanwhile, a top EU health official has warned that some groups of people may be more at risk than others., \"For the broader population, the likelihood of spread is very low,\" said Dr Andrea Ammon of the European Centre for Disease Prevention and Control.,  \"However the likelihood of further spread of the virus through close contact for example during sexual activities amongst persons with multiple sexual partners is considered to be high\"., Monkeypox has not previously been described as a sexually transmitted infection, but it can be passed on by direct contact during sex., Dr Ammon suggested that countries should review the availability of the smallpox vaccine which is also effective against monkeypox., In the UK, which has now recorded 57 cases, authorities are advising anyone who has had close contact with a confirmed case to isolate for 21 days., A person is considered at high risk of having caught the infection if they have had household or sexual contact with someone with monkeypox, or have changed the bedding of an infected person without wearing personal protective equipment (PPE)., Symptoms, which include a high temperature, aches, and a rash of raised spots that later turn into blisters, are typically mild and for most people clear up within two to four weeks.]\n"
     ]
    }
   ],
   "source": [
    "sentence_tokens= [sent for sent in doc.sents]\n",
    "print(sentence_tokens)"
   ]
  },
  {
   "cell_type": "code",
   "execution_count": 40,
   "metadata": {},
   "outputs": [],
   "source": [
    "sentence_scores = {}\n",
    "for sent in sentence_tokens:\n",
    "    for word in sent:\n",
    "        if word.text.lower() in word_frequencies.keys():\n",
    "            if sent not in sentence_scores.keys():                            \n",
    "             sentence_scores[sent]=word_frequencies[word.text.lower()]\n",
    "            else:\n",
    "             sentence_scores[sent]+=word_frequencies[word.text.lower()]"
   ]
  },
  {
   "cell_type": "code",
   "execution_count": 41,
   "metadata": {},
   "outputs": [
    {
     "data": {
      "text/plain": [
       "{Monkeypox can be contained in countries outside of Africa where the virus is not usually detected, the World Health Organization (WHO) says.: 3.9999999999999996,\n",
       " More than 100 cases of the virus - which causes a rash and a fever - have been confirmed in Europe, the Americas and Australia.: 2.6666666666666665,\n",
       " That number is expected to rise still, but experts say the overall risk to the broader population is very low.: 2.5,\n",
       " The virus is most common in remote parts of Central and West Africa.: 1.5000000000000002,\n",
       " \"This is a containable situation,\" the WHO's emerging disease lead Maria Van Kerkhove said at a news conference on Monday.: 2.0,\n",
       " \"We want to stop human-to-human transmission.: 1.1666666666666667,\n",
       " We can do this in the non-endemic countries,\" she added - referring to recent cases in Europe and North America.: 2.166666666666667,\n",
       " What is monkeypox and how do you catch it?: 1.0,\n",
       " Monkeypox: Time to worry or one to ignore?: 1.1666666666666667,\n",
       " The virus has now been detected in 16 countries outside Africa.: 2.6666666666666665,\n",
       " Despite being the largest outbreak outside of Africa in 50 years, monkeypox does not spread easily between people and experts say the threat is not comparable to the coronavirus pandemic.: 4.500000000000001,\n",
       "  \"Transmission is really happening from skin-to-skin contact, most of the people who have been identified have more of a mild disease,\" Ms Van Kerkhove said.: 4.5,\n",
       "  Another WHO official added that there was no evidence the monkeypox virus had mutated, following earlier speculation over the cause of the current outbreak.: 4.499999999999999,\n",
       " Viruses in this group \"tend not to mutate and they tend to be fairly stable\", said Rosamund Lewis, who heads the WHO's smallpox secretariat.: 2.6666666666666665,\n",
       " Meanwhile, a top EU health official has warned that some groups of people may be more at risk than others.: 2.0,\n",
       " \"For the broader population, the likelihood of spread is very low,\" said Dr Andrea Ammon of the European Centre for Disease Prevention and Control.: 2.8333333333333335,\n",
       "  \"However the likelihood of further spread of the virus through close contact for example during sexual activities amongst persons with multiple sexual partners is considered to be high\".: 6.166666666666667,\n",
       " Monkeypox has not previously been described as a sexually transmitted infection, but it can be passed on by direct contact during sex.: 3.1666666666666665,\n",
       " Dr Ammon suggested that countries should review the availability of the smallpox vaccine which is also effective against monkeypox.: 2.6666666666666665,\n",
       " In the UK, which has now recorded 57 cases, authorities are advising anyone who has had close contact with a confirmed case to isolate for 21 days.: 3.3333333333333326,\n",
       " A person is considered at high risk of having caught the infection if they have had household or sexual contact with someone with monkeypox, or have changed the bedding of an infected person without wearing personal protective equipment (PPE).: 6.166666666666669,\n",
       " Symptoms, which include a high temperature, aches, and a rash of raised spots that later turn into blisters, are typically mild and for most people clear up within two to four weeks.: 3.666666666666666}"
      ]
     },
     "execution_count": 41,
     "metadata": {},
     "output_type": "execute_result"
    }
   ],
   "source": [
    "sentence_scores"
   ]
  },
  {
   "cell_type": "code",
   "execution_count": 60,
   "metadata": {},
   "outputs": [
    {
     "data": {
      "text/plain": [
       "[A person is considered at high risk of having caught the infection if they have had household or sexual contact with someone with monkeypox, or have changed the bedding of an infected person without wearing personal protective equipment (PPE).,\n",
       "  \"However the likelihood of further spread of the virus through close contact for example during sexual activities amongst persons with multiple sexual partners is considered to be high\".,\n",
       " Despite being the largest outbreak outside of Africa in 50 years, monkeypox does not spread easily between people and experts say the threat is not comparable to the coronavirus pandemic.,\n",
       "  \"Transmission is really happening from skin-to-skin contact, most of the people who have been identified have more of a mild disease,\" Ms Van Kerkhove said.,\n",
       "  Another WHO official added that there was no evidence the monkeypox virus had mutated, following earlier speculation over the cause of the current outbreak.,\n",
       " Monkeypox can be contained in countries outside of Africa where the virus is not usually detected, the World Health Organization (WHO) says.,\n",
       " Symptoms, which include a high temperature, aches, and a rash of raised spots that later turn into blisters, are typically mild and for most people clear up within two to four weeks.,\n",
       " In the UK, which has now recorded 57 cases, authorities are advising anyone who has had close contact with a confirmed case to isolate for 21 days.]"
      ]
     },
     "execution_count": 60,
     "metadata": {},
     "output_type": "execute_result"
    }
   ],
   "source": [
    "from heapq import nlargest\n",
    "select_length=int(len(sentence_tokens)*0.4)\n",
    "select_length\n",
    "summary=nlargest(select_length, sentence_scores,key=sentence_scores.get)\n",
    "summary"
   ]
  },
  {
   "cell_type": "code",
   "execution_count": 58,
   "metadata": {},
   "outputs": [
    {
     "data": {
      "text/plain": [
       "'A person is considered at high risk of having caught the infection if they have had household or sexual contact with someone with monkeypox, or have changed the bedding of an infected person without wearing personal protective equipment (PPE). \"However the likelihood of further spread of the virus through close contact for example during sexual activities amongst persons with multiple sexual partners is considered to be high\".Despite being the largest outbreak outside of Africa in 50 years, monkeypox does not spread easily between people and experts say the threat is not comparable to the coronavirus pandemic. \"Transmission is really happening from skin-to-skin contact, most of the people who have been identified have more of a mild disease,\" Ms Van Kerkhove said.'"
      ]
     },
     "execution_count": 58,
     "metadata": {},
     "output_type": "execute_result"
    }
   ],
   "source": [
    "final_summary=[word.text for word in summary]\n",
    "final_summary\n",
    "summary=''.join(final_summary)\n",
    "summary"
   ]
  }
 ],
 "metadata": {
  "kernelspec": {
   "display_name": "Python 3.7.13 ('BBC Health data analysis')",
   "language": "python",
   "name": "python3"
  },
  "language_info": {
   "name": "python",
   "version": "3.7.13"
  },
  "orig_nbformat": 4,
  "vscode": {
   "interpreter": {
    "hash": "1663855e15dd368e085983d8036e05c4981c5eea6654526205ec9ed46155b6d4"
   }
  }
 },
 "nbformat": 4,
 "nbformat_minor": 2
}
