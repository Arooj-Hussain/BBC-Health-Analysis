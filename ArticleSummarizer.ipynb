{
 "cells": [
  {
   "cell_type": "code",
   "execution_count": 54,
   "metadata": {},
   "outputs": [],
   "source": [
    "from bs4 import BeautifulSoup as bs\n",
    "import requests\n",
    "\n",
    "url = \"https://www.bbc.com/news/health-61553822\"\n",
    "response = requests.get(url)\n",
    "#print(response)\n",
    "\n",
    "html = response.content\n",
    "#print(html)\n",
    "soup = bs(html,\"lxml\")\n"
   ]
  },
  {
   "cell_type": "code",
   "execution_count": 67,
   "metadata": {},
   "outputs": [
    {
     "name": "stdout",
     "output_type": "stream",
     "text": [
      "Monkeypox can be contained in countries outside of Africa where the virus is not usually detected, the World Health Organization (WHO) says. More than 100 cases of the virus - which causes a rash and a fever - have been confirmed in Europe, the Americas and Australia. That number is expected to rise still, but experts say the overall risk to the broader population is very low. The virus is most common in remote parts of Central and West Africa. \"This is a containable situation,\" the WHO's emerging disease lead Maria Van Kerkhove said at a news conference on Monday. \"We want to stop human-to-human transmission. We can do this in the non-endemic countries,\" she added - referring to recent cases in Europe and North America. What is monkeypox and how do you catch it? Monkeypox: Time to worry or one to ignore? The virus has now been detected in 16 countries outside Africa. Despite being the largest outbreak outside of Africa in 50 years, monkeypox does not spread easily between people and experts say the threat is not comparable to the coronavirus pandemic.  \"Transmission is really happening from skin-to-skin contact, most of the people who have been identified have more of a mild disease,\" Ms Van Kerkhove said.  Another WHO official added that there was no evidence the monkeypox virus had mutated, following earlier speculation over the cause of the current outbreak. Viruses in this group \"tend not to mutate and they tend to be fairly stable\", said Rosamund Lewis, who heads the WHO's smallpox secretariat. Meanwhile, a top EU health official has warned that some groups of people may be more at risk than others. \"For the broader population, the likelihood of spread is very low,\" said Dr Andrea Ammon of the European Centre for Disease Prevention and Control.  \"However the likelihood of further spread of the virus through close contact for example during sexual activities amongst persons with multiple sexual partners is considered to be high\". Monkeypox has not previously been described as a sexually transmitted infection, but it can be passed on by direct contact during sex. Dr Ammon suggested that countries should review the availability of the smallpox vaccine which is also effective against monkeypox. In the UK, which has now recorded 57 cases, authorities are advising anyone who has had close contact with a confirmed case to isolate for 21 days. A person is considered at high risk of having caught the infection if they have had household or sexual contact with someone with monkeypox, or have changed the bedding of an infected person without wearing personal protective equipment (PPE). Symptoms, which include a high temperature, aches, and a rash of raised spots that later turn into blisters, are typically mild and for most people clear up within two to four weeks.\n"
     ]
    }
   ],
   "source": [
    "import re\n",
    "article = \" \".join([el.text for el in soup.find_all(\"div\", [re.compile('.*RichTextContainer.*')], recursive=True)])\n",
    "#article = [el.text for el in soup.find_all(\"div\", [re.compile('.*RichTextContainer.*')], recursive= True)]\n",
    "print(article)"
   ]
  },
  {
   "cell_type": "code",
   "execution_count": null,
   "metadata": {},
   "outputs": [],
   "source": [
    "#puntuation  removal\n",
    "clean_article = re.sub(f\"[{re.escape(punctuation)}]\", \"\", article)\n",
    "print(clean_article)"
   ]
  },
  {
   "cell_type": "code",
   "execution_count": 68,
   "metadata": {},
   "outputs": [],
   "source": [
    "import spacy\n",
    "import textwrap\n",
    "from spacy.lang.en.stop_words import STOP_WORDS\n",
    "from string import punctuation\n",
    "from heapq import nlargest\n",
    "punctuation += '\\n' \n",
    "stopwords = list(STOP_WORDS)\n",
    "\n",
    "reduction_rate = 0.1  #defines how small the output summary should be compared with the input \n"
   ]
  },
  {
   "cell_type": "code",
   "execution_count": 69,
   "metadata": {},
   "outputs": [
    {
     "name": "stdout",
     "output_type": "stream",
     "text": [
      "6\n",
      "{'Monkeypox': 0.5, 'contained': 0.16666666666666666, 'countries': 0.6666666666666666, 'outside': 0.5, 'Africa': 0.6666666666666666, 'virus': 1.0, 'usually': 0.16666666666666666, 'detected': 0.3333333333333333, 'World': 0.16666666666666666, 'Health': 0.16666666666666666, 'Organization': 0.16666666666666666, 'says': 0.16666666666666666, '100': 0.16666666666666666, 'cases': 0.5, 'causes': 0.16666666666666666, 'rash': 0.3333333333333333, 'fever': 0.16666666666666666, 'confirmed': 0.3333333333333333, 'Europe': 0.3333333333333333, 'Americas': 0.16666666666666666, 'Australia': 0.16666666666666666, 'number': 0.16666666666666666, 'expected': 0.16666666666666666, 'rise': 0.16666666666666666, 'experts': 0.3333333333333333, 'overall': 0.16666666666666666, 'risk': 0.5, 'broader': 0.3333333333333333, 'population': 0.3333333333333333, 'low': 0.3333333333333333, 'common': 0.16666666666666666, 'remote': 0.16666666666666666, 'parts': 0.16666666666666666, 'Central': 0.16666666666666666, 'West': 0.16666666666666666, 'containable': 0.16666666666666666, 'situation': 0.16666666666666666, 'emerging': 0.16666666666666666, 'disease': 0.3333333333333333, 'lead': 0.16666666666666666, 'Maria': 0.16666666666666666, 'Van': 0.3333333333333333, 'Kerkhove': 0.3333333333333333, 'said': 0.6666666666666666, 'news': 0.16666666666666666, 'conference': 0.16666666666666666, 'Monday': 0.16666666666666666, 'want': 0.16666666666666666, 'stop': 0.16666666666666666, 'human': 0.3333333333333333, 'transmission': 0.16666666666666666, 'non': 0.16666666666666666, 'endemic': 0.16666666666666666, 'added': 0.3333333333333333, 'referring': 0.16666666666666666, 'recent': 0.16666666666666666, 'North': 0.16666666666666666, 'America': 0.16666666666666666, 'monkeypox': 0.8333333333333334, 'catch': 0.16666666666666666, 'Time': 0.16666666666666666, 'worry': 0.16666666666666666, 'ignore': 0.16666666666666666, '16': 0.16666666666666666, 'Despite': 0.16666666666666666, 'largest': 0.16666666666666666, 'outbreak': 0.3333333333333333, '50': 0.16666666666666666, 'years': 0.16666666666666666, 'spread': 0.5, 'easily': 0.16666666666666666, 'people': 0.6666666666666666, 'threat': 0.16666666666666666, 'comparable': 0.16666666666666666, 'coronavirus': 0.16666666666666666, 'pandemic': 0.16666666666666666, ' ': 0.5, 'Transmission': 0.16666666666666666, 'happening': 0.16666666666666666, 'skin': 0.3333333333333333, 'contact': 0.8333333333333334, 'identified': 0.16666666666666666, 'mild': 0.3333333333333333, 'Ms': 0.16666666666666666, 'official': 0.3333333333333333, 'evidence': 0.16666666666666666, 'mutated': 0.16666666666666666, 'following': 0.16666666666666666, 'earlier': 0.16666666666666666, 'speculation': 0.16666666666666666, 'cause': 0.16666666666666666, 'current': 0.16666666666666666, 'Viruses': 0.16666666666666666, 'group': 0.16666666666666666, 'tend': 0.3333333333333333, 'mutate': 0.16666666666666666, 'fairly': 0.16666666666666666, 'stable': 0.16666666666666666, 'Rosamund': 0.16666666666666666, 'Lewis': 0.16666666666666666, 'heads': 0.16666666666666666, 'smallpox': 0.3333333333333333, 'secretariat': 0.16666666666666666, 'EU': 0.16666666666666666, 'health': 0.16666666666666666, 'warned': 0.16666666666666666, 'groups': 0.16666666666666666, 'likelihood': 0.3333333333333333, 'Dr': 0.3333333333333333, 'Andrea': 0.16666666666666666, 'Ammon': 0.3333333333333333, 'European': 0.16666666666666666, 'Centre': 0.16666666666666666, 'Disease': 0.16666666666666666, 'Prevention': 0.16666666666666666, 'Control': 0.16666666666666666, 'close': 0.3333333333333333, 'example': 0.16666666666666666, 'sexual': 0.5, 'activities': 0.16666666666666666, 'persons': 0.16666666666666666, 'multiple': 0.16666666666666666, 'partners': 0.16666666666666666, 'considered': 0.3333333333333333, 'high': 0.5, 'previously': 0.16666666666666666, 'described': 0.16666666666666666, 'sexually': 0.16666666666666666, 'transmitted': 0.16666666666666666, 'infection': 0.3333333333333333, 'passed': 0.16666666666666666, 'direct': 0.16666666666666666, 'sex': 0.16666666666666666, 'suggested': 0.16666666666666666, 'review': 0.16666666666666666, 'availability': 0.16666666666666666, 'vaccine': 0.16666666666666666, 'effective': 0.16666666666666666, 'UK': 0.16666666666666666, 'recorded': 0.16666666666666666, '57': 0.16666666666666666, 'authorities': 0.16666666666666666, 'advising': 0.16666666666666666, 'case': 0.16666666666666666, 'isolate': 0.16666666666666666, '21': 0.16666666666666666, 'days': 0.16666666666666666, 'person': 0.3333333333333333, 'having': 0.16666666666666666, 'caught': 0.16666666666666666, 'household': 0.16666666666666666, 'changed': 0.16666666666666666, 'bedding': 0.16666666666666666, 'infected': 0.16666666666666666, 'wearing': 0.16666666666666666, 'personal': 0.16666666666666666, 'protective': 0.16666666666666666, 'equipment': 0.16666666666666666, 'PPE': 0.16666666666666666, 'Symptoms': 0.16666666666666666, 'include': 0.16666666666666666, 'temperature': 0.16666666666666666, 'aches': 0.16666666666666666, 'raised': 0.16666666666666666, 'spots': 0.16666666666666666, 'later': 0.16666666666666666, 'turn': 0.16666666666666666, 'blisters': 0.16666666666666666, 'typically': 0.16666666666666666, 'clear': 0.16666666666666666, 'weeks': 0.16666666666666666}\n"
     ]
    }
   ],
   "source": [
    "nlp_pl = spacy.load('en_core_web_sm')     #process original text according with the Spacy nlp pipeline for english\n",
    "document = nlp_pl(article)                   #doc object\n",
    "\n",
    "tokens = [token.text for token in document] #tokenized text\n",
    "\n",
    "word_frequencies = {}\n",
    "for word in document:\n",
    "    if word.text.lower() not in stopwords:\n",
    "        if word.text.lower() not in punctuation:\n",
    "            if word.text not in word_frequencies.keys():\n",
    "                word_frequencies[word.text] = 1\n",
    "            else:\n",
    "                word_frequencies[word.text] += 1\n",
    "\n",
    "max_frequency = max(word_frequencies.values())\n",
    "print(max_frequency)\n",
    "\n",
    "#Normalisation of word_freq\n",
    "for word in word_frequencies.keys():\n",
    "    word_frequencies[word] = word_frequencies[word]/max_frequency\n",
    "\n",
    "print(word_frequencies)"
   ]
  },
  {
   "cell_type": "code",
   "execution_count": 70,
   "metadata": {},
   "outputs": [],
   "source": [
    "sentence_tokens = [sent for sent in document.sents]\n",
    "\n",
    "def get_sentence_scores(sentence_tok, len_norm=True):\n",
    "  sentence_scores = {}\n",
    "  for sent in sentence_tok:\n",
    "      word_count = 0\n",
    "      for word in sent:\n",
    "          if word.text.lower() in word_frequencies.keys():\n",
    "              word_count += 1\n",
    "              if sent not in sentence_scores.keys():\n",
    "                  sentence_scores[sent] = word_frequencies[word.text.lower()]\n",
    "              else:\n",
    "                  sentence_scores[sent] += word_frequencies[word.text.lower()]\n",
    "      if len_norm:\n",
    "        sentence_scores[sent] = sentence_scores[sent]/word_count\n",
    "  return sentence_scores\n",
    "                \n",
    "sentence_scores = get_sentence_scores(sentence_tokens,len_norm=False)        #sentence scoring without lenght normalization\n",
    "sentence_scores_rel = get_sentence_scores(sentence_tokens,len_norm=True)     #sentence scoring with length normalization"
   ]
  },
  {
   "cell_type": "code",
   "execution_count": 71,
   "metadata": {},
   "outputs": [
    {
     "name": "stdout",
     "output_type": "stream",
     "text": [
      "- NON_REL: A person is considered at high risk of having caught the infection if they have had household or sexual contact with someone with monkeypox, or have changed the bedding of an infected person without wearing personal protective equipment (PPE).  \"However the likelihood of further spread of the virus through close contact for example during sexual activities amongst persons with multiple sexual partners is considered to be high\".\n",
      "- REL: The virus has now been detected in 16 countries outside Africa. What is monkeypox and how do you catch it?\n"
     ]
    }
   ],
   "source": [
    "def get_summary(sentence_sc, rate):\n",
    "  summary_length = int(len(sentence_sc)*rate)\n",
    "  summary = nlargest(summary_length, sentence_sc, key = sentence_sc.get)\n",
    "  final_summary = [word.text for word in summary]\n",
    "  summary = ' '.join(final_summary)\n",
    "  return summary\n",
    "\n",
    "print(\"- NON_REL: \"+ get_summary(sentence_scores, reduction_rate))\n",
    "print(\"- REL: \"+ get_summary(sentence_scores_rel, reduction_rate))"
   ]
  }
 ],
 "metadata": {
  "kernelspec": {
   "display_name": "Python 3.7.13 ('BBC Health data analysis')",
   "language": "python",
   "name": "python3"
  },
  "language_info": {
   "codemirror_mode": {
    "name": "ipython",
    "version": 3
   },
   "file_extension": ".py",
   "mimetype": "text/x-python",
   "name": "python",
   "nbconvert_exporter": "python",
   "pygments_lexer": "ipython3",
   "version": "3.7.13"
  },
  "orig_nbformat": 4,
  "vscode": {
   "interpreter": {
    "hash": "1663855e15dd368e085983d8036e05c4981c5eea6654526205ec9ed46155b6d4"
   }
  }
 },
 "nbformat": 4,
 "nbformat_minor": 2
}
